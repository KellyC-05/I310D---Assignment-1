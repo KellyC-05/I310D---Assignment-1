{
 "cells": [
  {
   "cell_type": "code",
   "execution_count": 1,
   "id": "db2fe5d1",
   "metadata": {
    "scrolled": true
   },
   "outputs": [],
   "source": [
    "import csv\n",
    "import pandas as pd\n",
    "import matplotlib.pyplot as plt\n",
    "import numpy as np"
   ]
  },
  {
   "cell_type": "code",
   "execution_count": 2,
   "id": "bab56a30",
   "metadata": {},
   "outputs": [],
   "source": [
    "# read the csv dataset\n",
    "data_file = pd.read_csv('Dataset.csv')"
   ]
  },
  {
   "cell_type": "code",
   "execution_count": 3,
   "id": "98c01031",
   "metadata": {},
   "outputs": [
    {
     "name": "stdout",
     "output_type": "stream",
     "text": [
      "There are total of 113 participants.\n"
     ]
    }
   ],
   "source": [
    "# Find the total participants\n",
    "number_participant = len(data_file)\n",
    "\n",
    "print(f'There are total of {number_participant} participants.')"
   ]
  },
  {
   "cell_type": "code",
   "execution_count": 4,
   "id": "ab8656cc",
   "metadata": {},
   "outputs": [
    {
     "name": "stdout",
     "output_type": "stream",
     "text": [
      "Plain tea\n",
      "milk tea\n",
      "fruit tea\n",
      "Plain tea\n"
     ]
    }
   ],
   "source": [
    "# Print the list of the tea types\n",
    "print(data_file['Type of milk tea often order'][0])\n",
    "print(data_file['Type of milk tea often order'][1])\n",
    "print(data_file['Type of milk tea often order'][2])\n",
    "print(data_file['Type of milk tea often order'][3])"
   ]
  },
  {
   "cell_type": "code",
   "execution_count": 5,
   "id": "db2f774b",
   "metadata": {},
   "outputs": [
    {
     "name": "stdout",
     "output_type": "stream",
     "text": [
      "# cups of milk tea last month  <class 'numpy.int64'>\n",
      "Type of milk tea often order <class 'str'>\n",
      "Any toppings (boba, other, none) <class 'str'>\n",
      "Sweetness (Reg, less, half, little, none) <class 'str'>\n"
     ]
    }
   ],
   "source": [
    "# Classify the column data\n",
    "for i in data_file.columns:\n",
    "    print(i, type(data_file[i][0]))\n",
    "    "
   ]
  },
  {
   "cell_type": "code",
   "execution_count": 6,
   "id": "a384abc9",
   "metadata": {},
   "outputs": [
    {
     "name": "stdout",
     "output_type": "stream",
     "text": [
      "Top 5 datas\n"
     ]
    },
    {
     "data": {
      "text/html": [
       "<div>\n",
       "<style scoped>\n",
       "    .dataframe tbody tr th:only-of-type {\n",
       "        vertical-align: middle;\n",
       "    }\n",
       "\n",
       "    .dataframe tbody tr th {\n",
       "        vertical-align: top;\n",
       "    }\n",
       "\n",
       "    .dataframe thead th {\n",
       "        text-align: right;\n",
       "    }\n",
       "</style>\n",
       "<table border=\"1\" class=\"dataframe\">\n",
       "  <thead>\n",
       "    <tr style=\"text-align: right;\">\n",
       "      <th></th>\n",
       "      <th># cups of milk tea last month</th>\n",
       "      <th>Type of milk tea often order</th>\n",
       "      <th>Any toppings (boba, other, none)</th>\n",
       "      <th>Sweetness (Reg, less, half, little, none)</th>\n",
       "    </tr>\n",
       "  </thead>\n",
       "  <tbody>\n",
       "    <tr>\n",
       "      <th>0</th>\n",
       "      <td>4</td>\n",
       "      <td>Plain tea</td>\n",
       "      <td>boba</td>\n",
       "      <td>less</td>\n",
       "    </tr>\n",
       "    <tr>\n",
       "      <th>1</th>\n",
       "      <td>2</td>\n",
       "      <td>milk tea</td>\n",
       "      <td>boba</td>\n",
       "      <td>regular</td>\n",
       "    </tr>\n",
       "    <tr>\n",
       "      <th>2</th>\n",
       "      <td>1</td>\n",
       "      <td>fruit tea</td>\n",
       "      <td>other</td>\n",
       "      <td>regular</td>\n",
       "    </tr>\n",
       "    <tr>\n",
       "      <th>3</th>\n",
       "      <td>6</td>\n",
       "      <td>Plain tea</td>\n",
       "      <td>boba</td>\n",
       "      <td>little</td>\n",
       "    </tr>\n",
       "    <tr>\n",
       "      <th>4</th>\n",
       "      <td>3</td>\n",
       "      <td>fruit tea</td>\n",
       "      <td>boba</td>\n",
       "      <td>half</td>\n",
       "    </tr>\n",
       "  </tbody>\n",
       "</table>\n",
       "</div>"
      ],
      "text/plain": [
       "   # cups of milk tea last month  Type of milk tea often order  \\\n",
       "0                               4                    Plain tea   \n",
       "1                               2                     milk tea   \n",
       "2                               1                    fruit tea   \n",
       "3                               6                    Plain tea   \n",
       "4                               3                    fruit tea   \n",
       "\n",
       "  Any toppings (boba, other, none) Sweetness (Reg, less, half, little, none)  \n",
       "0                             boba                                      less  \n",
       "1                             boba                                   regular  \n",
       "2                            other                                   regular  \n",
       "3                             boba                                    little  \n",
       "4                             boba                                      half  "
      ]
     },
     "execution_count": 6,
     "metadata": {},
     "output_type": "execute_result"
    }
   ],
   "source": [
    "# present a table of top 5 dataset\n",
    "print('Top 5 datas')\n",
    "data_file.head()"
   ]
  },
  {
   "cell_type": "code",
   "execution_count": 7,
   "id": "9f065994",
   "metadata": {},
   "outputs": [
    {
     "name": "stdout",
     "output_type": "stream",
     "text": [
      "Last 5 datas\n"
     ]
    },
    {
     "data": {
      "text/html": [
       "<div>\n",
       "<style scoped>\n",
       "    .dataframe tbody tr th:only-of-type {\n",
       "        vertical-align: middle;\n",
       "    }\n",
       "\n",
       "    .dataframe tbody tr th {\n",
       "        vertical-align: top;\n",
       "    }\n",
       "\n",
       "    .dataframe thead th {\n",
       "        text-align: right;\n",
       "    }\n",
       "</style>\n",
       "<table border=\"1\" class=\"dataframe\">\n",
       "  <thead>\n",
       "    <tr style=\"text-align: right;\">\n",
       "      <th></th>\n",
       "      <th># cups of milk tea last month</th>\n",
       "      <th>Type of milk tea often order</th>\n",
       "      <th>Any toppings (boba, other, none)</th>\n",
       "      <th>Sweetness (Reg, less, half, little, none)</th>\n",
       "    </tr>\n",
       "  </thead>\n",
       "  <tbody>\n",
       "    <tr>\n",
       "      <th>108</th>\n",
       "      <td>3</td>\n",
       "      <td>milk tea</td>\n",
       "      <td>other</td>\n",
       "      <td>half</td>\n",
       "    </tr>\n",
       "    <tr>\n",
       "      <th>109</th>\n",
       "      <td>2</td>\n",
       "      <td>fruit tea</td>\n",
       "      <td>boba</td>\n",
       "      <td>regular</td>\n",
       "    </tr>\n",
       "    <tr>\n",
       "      <th>110</th>\n",
       "      <td>3</td>\n",
       "      <td>smoothies</td>\n",
       "      <td>none</td>\n",
       "      <td>regular</td>\n",
       "    </tr>\n",
       "    <tr>\n",
       "      <th>111</th>\n",
       "      <td>4</td>\n",
       "      <td>milk tea</td>\n",
       "      <td>other</td>\n",
       "      <td>half</td>\n",
       "    </tr>\n",
       "    <tr>\n",
       "      <th>112</th>\n",
       "      <td>3</td>\n",
       "      <td>fruit tea</td>\n",
       "      <td>boba</td>\n",
       "      <td>regular</td>\n",
       "    </tr>\n",
       "  </tbody>\n",
       "</table>\n",
       "</div>"
      ],
      "text/plain": [
       "     # cups of milk tea last month  Type of milk tea often order  \\\n",
       "108                               3                     milk tea   \n",
       "109                               2                    fruit tea   \n",
       "110                               3                    smoothies   \n",
       "111                               4                     milk tea   \n",
       "112                               3                    fruit tea   \n",
       "\n",
       "    Any toppings (boba, other, none) Sweetness (Reg, less, half, little, none)  \n",
       "108                            other                                      half  \n",
       "109                             boba                                   regular  \n",
       "110                             none                                   regular  \n",
       "111                            other                                      half  \n",
       "112                             boba                                   regular  "
      ]
     },
     "execution_count": 7,
     "metadata": {},
     "output_type": "execute_result"
    }
   ],
   "source": [
    "# present a table of last 5 dataset\n",
    "print('Last 5 datas')\n",
    "data_file.tail()"
   ]
  },
  {
   "cell_type": "code",
   "execution_count": 8,
   "id": "731496f0",
   "metadata": {},
   "outputs": [
    {
     "name": "stdout",
     "output_type": "stream",
     "text": [
      "Calculation of January drinked milk tea\n"
     ]
    },
    {
     "data": {
      "text/html": [
       "<div>\n",
       "<style scoped>\n",
       "    .dataframe tbody tr th:only-of-type {\n",
       "        vertical-align: middle;\n",
       "    }\n",
       "\n",
       "    .dataframe tbody tr th {\n",
       "        vertical-align: top;\n",
       "    }\n",
       "\n",
       "    .dataframe thead th {\n",
       "        text-align: right;\n",
       "    }\n",
       "</style>\n",
       "<table border=\"1\" class=\"dataframe\">\n",
       "  <thead>\n",
       "    <tr style=\"text-align: right;\">\n",
       "      <th></th>\n",
       "      <th># cups of milk tea last month</th>\n",
       "    </tr>\n",
       "  </thead>\n",
       "  <tbody>\n",
       "    <tr>\n",
       "      <th>count</th>\n",
       "      <td>113.000000</td>\n",
       "    </tr>\n",
       "    <tr>\n",
       "      <th>mean</th>\n",
       "      <td>2.787611</td>\n",
       "    </tr>\n",
       "    <tr>\n",
       "      <th>std</th>\n",
       "      <td>1.617159</td>\n",
       "    </tr>\n",
       "    <tr>\n",
       "      <th>min</th>\n",
       "      <td>0.000000</td>\n",
       "    </tr>\n",
       "    <tr>\n",
       "      <th>25%</th>\n",
       "      <td>2.000000</td>\n",
       "    </tr>\n",
       "    <tr>\n",
       "      <th>50%</th>\n",
       "      <td>3.000000</td>\n",
       "    </tr>\n",
       "    <tr>\n",
       "      <th>75%</th>\n",
       "      <td>4.000000</td>\n",
       "    </tr>\n",
       "    <tr>\n",
       "      <th>max</th>\n",
       "      <td>6.000000</td>\n",
       "    </tr>\n",
       "  </tbody>\n",
       "</table>\n",
       "</div>"
      ],
      "text/plain": [
       "       # cups of milk tea last month \n",
       "count                      113.000000\n",
       "mean                         2.787611\n",
       "std                          1.617159\n",
       "min                          0.000000\n",
       "25%                          2.000000\n",
       "50%                          3.000000\n",
       "75%                          4.000000\n",
       "max                          6.000000"
      ]
     },
     "execution_count": 8,
     "metadata": {},
     "output_type": "execute_result"
    }
   ],
   "source": [
    "# present the table of total participants, average of drinks in Janurary 2022, standard deviation, minimum, maximum, and the\n",
    "# percentage of the drinks of participants drinked\n",
    "print('Calculation of January drinked milk tea')\n",
    "data_file.describe()\n"
   ]
  },
  {
   "cell_type": "code",
   "execution_count": 9,
   "id": "a2ff880c",
   "metadata": {},
   "outputs": [],
   "source": [
    "# count number of type of drinks often order\n",
    "drinks = data_file['Type of milk tea often order'].value_counts()"
   ]
  },
  {
   "cell_type": "code",
   "execution_count": 10,
   "id": "53b88cff",
   "metadata": {},
   "outputs": [],
   "source": [
    "# count number of type of toppings often added in the drink\n",
    "toppings = data_file['Any toppings (boba, other, none)'].value_counts()"
   ]
  },
  {
   "cell_type": "code",
   "execution_count": 11,
   "id": "1c677798",
   "metadata": {},
   "outputs": [],
   "source": [
    "# count number of sweetness prefrence often added in the drink\n",
    "sugar = data_file['Sweetness (Reg, less, half, little, none)'].value_counts()"
   ]
  },
  {
   "cell_type": "code",
   "execution_count": 12,
   "id": "71be3eda",
   "metadata": {},
   "outputs": [
    {
     "name": "stdout",
     "output_type": "stream",
     "text": [
      "Graph the prefrence of the user's drink with toppings.\n"
     ]
    },
    {
     "data": {
      "image/png": "[encoded data removed]",
      "text/plain": [
       "<Figure size 432x288 with 1 Axes>"
      ]
     },
     "metadata": {
      "needs_background": "light"
     },
     "output_type": "display_data"
    }
   ],
   "source": [
    "# Create a graph that finds the participant's favoriate drink base and with the toppings\n",
    "print('Graph the prefrence of the user\\'s drink with toppings.')\n",
    "\n",
    "base = ['Milk tea', 'Plain tea', 'Fruit tea', 'Coffee', 'Smoothies'] \n",
    "\n",
    "topping_boba = [22, 20, 16, 2, 4]\n",
    "topping_other = [11, 9, 7, 2, 2]\n",
    "topping_none = [4, 3, 2, 6, 3]\n",
    "\n",
    "x = np.arange(len(base))  \n",
    "w = 0.2\n",
    "\n",
    "fig, ax = plt.subplots()\n",
    "bar_1 = ax.bar(x - w/3, topping_boba, w, label = 'with boba')\n",
    "bar_2 = ax.bar(x + w*0.8, topping_other, w, label = 'with other toppings')\n",
    "bar_3 = ax.bar(x + w*2, topping_none, w, label = 'no topping added')\n",
    "\n",
    "ax.set_xlabel('Type of drink')\n",
    "ax.set_ylabel('Number of people\\'s prefrences')\n",
    "ax.set_title('Customer\\'s prefrence drink')\n",
    "ax.set_xticks(x, base)\n",
    "ax.legend()\n",
    "\n",
    "ax.bar_label(bar_1, padding=3)\n",
    "ax.bar_label(bar_2, padding=3)\n",
    "ax.bar_label(bar_3, padding=3)\n",
    "\n",
    "fig.tight_layout()\n",
    "\n",
    "plt.show()"
   ]
  },
  {
   "cell_type": "code",
   "execution_count": null,
   "id": "fc7d29b2",
   "metadata": {},
   "outputs": [],
   "source": []
  }
 ],
 "metadata": {
  "kernelspec": {
   "display_name": "Python 3 (ipykernel)",
   "language": "python",
   "name": "python3"
  },
  "language_info": {
   "codemirror_mode": {
    "name": "ipython",
    "version": 3
   },
   "file_extension": ".py",
   "mimetype": "text/x-python",
   "name": "python",
   "nbconvert_exporter": "python",
   "pygments_lexer": "ipython3",
   "version": "3.10.2"
  }
 },
 "nbformat": 4,
 "nbformat_minor": 5
}
